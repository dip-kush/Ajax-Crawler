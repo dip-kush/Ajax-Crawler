{
 "metadata": {
  "name": ""
 },
 "nbformat": 3,
 "nbformat_minor": 0,
 "worksheets": [
  {
   "cells": [
    {
     "cell_type": "code",
     "collapsed": false,
     "input": [
      "                                                                                                                                                                                from selenium import webdriver\n",
      "from BeautifulSoup import BeautifulSoup\n",
      "from htmltreediff import diff\n"
     ],
     "language": "python",
     "metadata": {},
     "outputs": [],
     "prompt_number": 1
    },
    {
     "cell_type": "code",
     "collapsed": false,
     "input": [
      "driver = webdriver.Chrome()\n",
      "driver.get(\"http:/demo.crawljax.com\")"
     ],
     "language": "python",
     "metadata": {},
     "outputs": [],
     "prompt_number": 15
    },
    {
     "cell_type": "code",
     "collapsed": false,
     "input": [
      "driver.get(\"http://127.0.0.1:81/ajaxweb/\")"
     ],
     "language": "python",
     "metadata": {},
     "outputs": [],
     "prompt_number": 3
    },
    {
     "cell_type": "code",
     "collapsed": false,
     "input": [
      "page_src_before = driver.page_source"
     ],
     "language": "python",
     "metadata": {},
     "outputs": [],
     "prompt_number": 16
    },
    {
     "cell_type": "code",
     "collapsed": false,
     "input": [
      "page_src_after = driver.page_source\n"
     ],
     "language": "python",
     "metadata": {},
     "outputs": [],
     "prompt_number": 17
    },
    {
     "cell_type": "code",
     "collapsed": false,
     "input": [
      "difference = diff(page_src_before, page_src_after, pretty=\"True\")\n",
      "#print difference"
     ],
     "language": "python",
     "metadata": {},
     "outputs": [],
     "prompt_number": 18
    },
    {
     "cell_type": "code",
     "collapsed": false,
     "input": [
      "soup = BeautifulSoup(difference)"
     ],
     "language": "python",
     "metadata": {},
     "outputs": [],
     "prompt_number": 19
    },
    {
     "cell_type": "code",
     "collapsed": false,
     "input": [
      "d = soup.findAll(\"del\")"
     ],
     "language": "python",
     "metadata": {},
     "outputs": [],
     "prompt_number": 20
    },
    {
     "cell_type": "code",
     "collapsed": false,
     "input": [
      "i = soup.findAll('ins')"
     ],
     "language": "python",
     "metadata": {},
     "outputs": [],
     "prompt_number": 21
    },
    {
     "cell_type": "code",
     "collapsed": false,
     "input": [
      "for item in i:\n",
      "    print item\n"
     ],
     "language": "python",
     "metadata": {},
     "outputs": [
      {
       "output_type": "stream",
       "stream": "stdout",
       "text": [
        "<ins>\n",
        "<table border=\"0\">\n",
        "<tbody>\n",
        "<tr>\n",
        "<td valign=\"top\">\n",
        "<div id=\"left\">\n",
        "<h2>Crawling</h2>\n",
        "<ul class=\"test\">\n",
        "<li>\n",
        "<a href=\"javascript:void(0)\" onclick=\"openPage('select.html')\">Select Elements To Crawl</a>\n",
        "</li>\n",
        "<li>\n",
        "<a href=\"javascript:void(0)\" onclick=\"openPage('crawlConditions.html')\">CrawlConditions</a>\n",
        "</li>\n",
        "<li>\n",
        "<a href=\"javascript:void(0)\" onclick=\"openPage('waitConditions.html')\">WaitConditions</a>\n",
        "</li>\n",
        "</ul>\n",
        "<h2>Testing</h2>\n",
        "<ul class=\"test\">\n",
        "<li>\n",
        "<a href=\"javascript:void(0)\" onclick=\"openPage('plugins.html')\">Plugins</a>\n",
        "</li>\n",
        "<li>\n",
        "<a href=\"javascript:void(0)\" onclick=\"openPage('oracleComparators.html')\">Oracle Comparators</a>\n",
        "</li>\n",
        "<li>\n",
        "<a href=\"javascript:void(0)\" onclick=\"openPage('invariants.html')\">Invariants</a>\n",
        "</li>\n",
        "<li>\n",
        "<a href=\"javascript:void(0)\" onclick=\"openPage('conditions.html')\">Conditions</a>\n",
        "</li>\n",
        "</ul>\n",
        "<h2>Input</h2>\n",
        "<ul class=\"test\">\n",
        "<li>\n",
        "<a href=\"javascript:void(0)\" onclick=\"openPage('randomInput.html')\">Random Form Input</a>\n",
        "</li>\n",
        "<li>\n",
        "<a href=\"javascript:void(0)\" onclick=\"openPage('customInput.html')\">Custom Input</a>\n",
        "</li>\n",
        "<li>\n",
        "<a href=\"javascript:void(0)\" onclick=\"openPage('forms.html')\">Custom Forms</a>\n",
        "</li>\n",
        "</ul>\n",
        "</div>\n",
        "</td>\n",
        "<td valign=\"top\">\n",
        "<div id=\"content\">\n",
        "<h1>CrawlConditions</h1>\n",
        "<p>\n",
        "              Crawljax has CrawlConditions which can be used to guide the crawling with a dynamic approach. When Crawljax finds a new state, it only crawls it when \n",
        "              <strong>all</strong>\n",
        "               the CrawlConditions are satisfied. If no CrawlConditions are specified, all the states are crawled.\n",
        "            </p>\n",
        "<h2>Methods in CrawlSpecification</h2>\n",
        "<p>\n",
        "               addCrawlCondition(String description, Condition crawlCondition)\n",
        "              <br />\n",
        "               addCrawlCondition(String description, Condition crawlCondition, Condition... preConditions) \n",
        "            </p>\n",
        "<h2>Example 1</h2>\n",
        "<p>Crawljax should onlyl crawl pages with the text foo in the URL.</p>\n",
        "<pre>CrawljaxConfigurationBuilder builder = CrawljaxConfiguration.builderFor(URL); ... UrlCondition onlyFooDomain = new UrlCondition(&quot;foo&quot;)); builder.addCrawlCondition(&quot;Only crawl foo site&quot;, onlyFooDomain); </pre>\n",
        "<h2>Example 2</h2>\n",
        "<p>Crawljax should never crawl a page with a span with the class 'foo'.</p>\n",
        "<pre>CrawljaxConfigurationBuilder builder = CrawljaxConfiguration.builderFor(URL); ... NotXPathCondition noFooClass = new NotXPathCondition(&quot;//SPAN[@class='foo']&quot;)); builder.addCrawlCondition(&quot;No spans with foo as class&quot;, noFooClass); </pre>\n",
        "<p>\n",
        "              This page contains a foo and should therefore not be crawled by Crawljax. \n",
        "              <a href=\"#\" onclick=\"addError('Should not crawl this page');\">Thus think link should not be clicked by Crawljax</a>\n",
        "</p>\n",
        "</div>\n",
        "</td>\n",
        "</tr>\n",
        "</tbody>\n",
        "</table>\n",
        "</ins>\n"
       ]
      }
     ],
     "prompt_number": 22
    },
    {
     "cell_type": "code",
     "collapsed": false,
     "input": [],
     "language": "python",
     "metadata": {},
     "outputs": []
    }
   ],
   "metadata": {}
  }
 ]
}